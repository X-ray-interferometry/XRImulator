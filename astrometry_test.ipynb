{
 "cells": [
  {
   "cell_type": "code",
   "execution_count": 19,
   "id": "1560c111",
   "metadata": {},
   "outputs": [],
   "source": [
    "# Regular imports\n",
    "import sys\n",
    "import os\n",
    "\n",
    "import numpy as np\n",
    "import scipy.special as sps\n",
    "import scipy.constants as spc\n",
    "import scipy.interpolate as spinter\n",
    "import scipy.optimize as spopt\n",
    "import scipy.fft as ft\n",
    "import matplotlib.pyplot as plt\n",
    "import matplotlib.cm as cm\n",
    "from matplotlib.colors import LinearSegmentedColormap, LogNorm\n",
    "# from matplotlib import rc, rcParams\n",
    "import time\n",
    "from datetime import datetime\n",
    "from PIL import Image\n",
    "\n",
    "plt.style.use('./xri_plot.mplstyle')\n",
    "plt.close('all')\n",
    "\n",
    "sys.path.append(os.path.dirname(os.path.dirname(os.path.abspath('__file__'))))"
   ]
  },
  {
   "cell_type": "code",
   "execution_count": 20,
   "id": "7e19039b",
   "metadata": {},
   "outputs": [],
   "source": [
    "# import custom modules -> re-run if changed\n",
    "\n",
    "import images\n",
    "import instrument\n",
    "import process\n",
    "import analysis"
   ]
  },
  {
   "cell_type": "code",
   "execution_count": 21,
   "id": "381162d6",
   "metadata": {},
   "outputs": [],
   "source": [
    "# generate PSF of initialised setup\n",
    "\n",
    "pix_scale = np.array([500, 500])\n",
    "\n",
    "def generate_psf(energy, counts, img_scale, inst, samples = pix_scale):\n",
    "    \n",
    "    point_source = images.point_source(counts, alpha = 0, beta = 0, energy = energy)\n",
    "    psf_data = process.interferometer_data(inst, point_source)\n",
    "    psf, uv, obj = analysis.image_recon_smooth(psf_data, inst, img_scale, samples = samples, error=0.05, recon_type = 'IFFT')\n",
    "    return psf, uv, obj\n",
    "\n"
   ]
  },
  {
   "cell_type": "code",
   "execution_count": 22,
   "id": "0751b176",
   "metadata": {},
   "outputs": [
    {
     "name": "stdout",
     "output_type": "stream",
     "text": [
      "Generated PSF for 10 counts\n",
      "Generated PSF for 100 counts\n",
      "Generated PSF for 1000 counts\n",
      "Generated PSF for 10000 counts\n",
      "Generated PSF for 100000 counts\n",
      "Generated PSF for 1000000 counts\n",
      "Generated PSF for 10000000 counts\n",
      "Generated PSF for 100000000 counts\n"
     ]
    }
   ],
   "source": [
    "counts = np.logspace(1, 8, 8, dtype=int)\n",
    "baselines = np.linspace(0.05, 1.0, 10)\n",
    "energy = 6.4\n",
    "img_scale = 500e-6 # width of image in arcsec\n",
    "time_step = 1\n",
    "\n",
    "\n",
    "\n",
    "\n",
    "\n",
    "psf_list = []\n",
    "uv_list = []\n",
    "for c in counts:\n",
    "    img = images.point_source(c, alpha = 0, beta = 0, energy = energy)\n",
    "    inst = instrument.interferometer(time_step, roller = instrument.interferometer.smooth_roller, roll_init = 0, roll_speed = np.pi / (np.max(img.toa)* time_step))\n",
    "    for i in baselines:\n",
    "        inst.add_willingale_baseline(i)\n",
    "    simulated_psf, uv, obj = generate_psf(energy, c, img_scale, inst, samples = pix_scale)\n",
    "    psf_list.append(simulated_psf)\n",
    "    uv_list.append(uv)\n",
    "    print(f'Generated PSF for {c} counts')\n",
    "\n",
    "# plot PSFs\n",
    "\n",
    "\n"
   ]
  },
  {
   "cell_type": "code",
   "execution_count": 23,
   "id": "570aa9e0",
   "metadata": {},
   "outputs": [
    {
     "name": "stdout",
     "output_type": "stream",
     "text": [
      "Counts: 10, Centroid: (y=253.09, x=263.32), Error: (σy=828.88, σx=1492.53)\n",
      "Counts: 100, Centroid: (y=253.02, x=251.05), Error: (σy=375.24, σx=465.69)\n",
      "Counts: 1000, Centroid: (y=248.76, x=250.16), Error: (σy=117.61, σx=121.38)\n",
      "Counts: 10000, Centroid: (y=250.05, x=249.56), Error: (σy=37.23, σx=37.77)\n",
      "Counts: 100000, Centroid: (y=249.74, x=250.11), Error: (σy=11.83, σx=11.81)\n",
      "Counts: 1000000, Centroid: (y=249.97, x=250.01), Error: (σy=3.76, σx=3.75)\n",
      "Counts: 10000000, Centroid: (y=250.01, x=250.02), Error: (σy=1.19, σx=1.19)\n",
      "Counts: 100000000, Centroid: (y=250.00, x=250.00), Error: (σy=0.38, σx=0.38)\n"
     ]
    }
   ],
   "source": [
    "def evaluate_relative_astrometry(psf_list, aperture_radius=50):\n",
    "    \"\"\"\n",
    "    Evaluate the relative astrometry for each PSF in psf_list.\n",
    "    Uses centroiding within a fixed circular aperture around the image center.\n",
    "\n",
    "    Parameters:\n",
    "        psf_list (list): List of PSF arrays (each shape: [N, N]).\n",
    "        aperture_radius (int): Radius of the circular aperture (pixels).\n",
    "\n",
    "    Returns:\n",
    "        centroids (list): List of (y, x) centroid coordinates for each PSF.\n",
    "        errors (list): List of (σy, σx) centroid uncertainties for each PSF.\n",
    "    \"\"\"\n",
    "    centroids = []\n",
    "    errors = []\n",
    "    for psf in psf_list:\n",
    "        img = psf[0]  # PSF array\n",
    "        N = img.shape[0]\n",
    "        y0, x0 = N // 2, N // 2\n",
    "\n",
    "        # Create aperture mask\n",
    "        Y, X = np.ogrid[:N, :N]\n",
    "        mask = (X - x0)**2 + (Y - y0)**2 <= aperture_radius**2\n",
    "\n",
    "        # Apply mask\n",
    "        img_ap = img * mask\n",
    "\n",
    "        # Centroid calculation\n",
    "        total = img_ap.sum()\n",
    "        y_centroid = (img_ap * Y).sum() / total\n",
    "        x_centroid = (img_ap * X).sum() / total\n",
    "\n",
    "        # Error estimation (variance of centroid, assuming Poisson statistics)\n",
    "        # σ² = Σ[(pixel - centroid)² * value] / total²\n",
    "        y_var = ((img_ap * (Y - y_centroid)**2).sum()) / total**2\n",
    "        x_var = ((img_ap * (X - x_centroid)**2).sum()) / total**2\n",
    "\n",
    "        centroids.append((y_centroid, x_centroid))\n",
    "        errors.append((np.sqrt(y_var), np.sqrt(x_var)))\n",
    "    return centroids, errors\n",
    "\n",
    "\n",
    "centroids, errors = evaluate_relative_astrometry(psf_list, aperture_radius=50)\n",
    "for i, (y, x) in enumerate(centroids):\n",
    "    print(f'Counts: {counts[i]:.0f}, Centroid: (y={y:.2f}, x={x:.2f}), Error: (σy={errors[i][0]:.2f}, σx={errors[i][1]:.2f})')\n"
   ]
  },
  {
   "cell_type": "code",
   "execution_count": 24,
   "id": "31a31510",
   "metadata": {},
   "outputs": [],
   "source": [
    "import os\n",
    "plt.close('all')\n",
    "# Create output directory if it doesn't exist\n",
    "output_dir = 'Figures/astrometry'\n",
    "os.makedirs(output_dir, exist_ok=True)\n",
    "\n",
    "aperture_radius = 50  # same as used in evaluate_relative_astrometry\n",
    "powers = np.log10(counts)\n",
    "\n",
    "# Plot all PSFs in the same style as ps_test.ipynb\n",
    "for idx, (psf, _) in enumerate(psf_list):\n",
    "    fig, ax = plt.subplots(figsize=(6, 6))\n",
    "    im = ax.imshow(psf/psf.max(), cmap='inferno', origin='lower')\n",
    "    ax.set_title(f'Point source with $10^{powers[idx]:.0f}$ counts')\n",
    "    ax.set_xlabel('x [µas]')\n",
    "    ax.set_ylabel('y [µas]')\n",
    "    plt.colorbar(im, ax=ax, label='Intensity (arbitrary unit)', pad=0.02, fraction=0.046)\n",
    "\n",
    "    # Draw aperture circle\n",
    "    N = psf.shape[0]\n",
    "    y0, x0 = N // 2, N // 2\n",
    "    circ = plt.Circle((x0, y0), aperture_radius, color='cyan', fill=False, lw=2, linestyle='--')\n",
    "    ax.add_patch(circ)\n",
    "    # Add text annotation for aperture\n",
    "    ax.text(x0, y0 + aperture_radius + 20, '50px aperture', color='cyan', ha='center', va='bottom', fontsize=12)\n",
    "\n",
    "    fig.tight_layout()\n",
    "    fig.savefig(f'{output_dir}/psf_{counts[idx]:.0f}_counts.png', dpi=200)\n",
    "    plt.close(fig)"
   ]
  },
  {
   "cell_type": "code",
   "execution_count": 25,
   "id": "7f02181c",
   "metadata": {},
   "outputs": [
    {
     "name": "stderr",
     "output_type": "stream",
     "text": [
      "<>:20: SyntaxWarning: invalid escape sequence '\\p'\n",
      "<>:20: SyntaxWarning: invalid escape sequence '\\p'\n",
      "/var/folders/fn/72t1j4cn2b7gn_2dhs83dn_c0000gn/T/ipykernel_64527/3410113784.py:20: SyntaxWarning: invalid escape sequence '\\p'\n",
      "  ax2.plot(counts, 10**linear(np.log10(counts), *popt), 'r-', label=f'Fitted slope $= {popt[0]:.2f} \\pm {perr[0]:.2f}$')\n"
     ]
    },
    {
     "name": "stdout",
     "output_type": "stream",
     "text": [
      "Fitted power-law parameters: slope = -0.50 ± 0.00, intercept = 3.57 ± 0.01\n"
     ]
    }
   ],
   "source": [
    "from scipy.optimize import curve_fit\n",
    "# Prepare data\n",
    "errors_arr = np.array(errors)\n",
    "mean_errors = errors_arr.mean(axis=1)\n",
    "diff_errors = np.abs(errors_arr[:, 0] - errors_arr[:, 1])\n",
    "\n",
    "# Power-law fit function\n",
    "def powerlaw(x, a, b):\n",
    "    return a + x**b\n",
    "\n",
    "def linear(x, m, c):\n",
    "    return m * x + c\n",
    "\n",
    "popt, pcov = curve_fit(linear, np.log10(counts), np.log10(mean_errors), sigma=diff_errors, absolute_sigma=True)\n",
    "perr = np.sqrt(np.diag(pcov))\n",
    "print(f'Fitted power-law parameters: slope = {popt[0]:.2f} ± {perr[0]:.2f}, intercept = {popt[1]:.2f} ± {perr[1]:.2f}')\n",
    "# Plot\n",
    "fig2, ax2 = plt.subplots(figsize=(7, 5))\n",
    "ax2.errorbar(counts, mean_errors, yerr=diff_errors, fmt='s', color='tab:blue', label='Mean centroid error')\n",
    "ax2.plot(counts, 10**linear(np.log10(counts), *popt), 'r-', label=f'Fitted slope $= {popt[0]:.2f} \\pm {perr[0]:.2f}$')\n",
    "ax2.set_xscale('log')\n",
    "ax2.set_yscale('log')\n",
    "ax2.set_xlabel('Counts')\n",
    "ax2.set_ylabel('Mean centroid error (pixels)')\n",
    "ax2.legend(fontsize='small')\n",
    "fig2.tight_layout()\n",
    "fig2.savefig(f'{output_dir}/centroid_error_vs_counts.png', dpi=200)\n",
    "plt.close(fig2)"
   ]
  }
 ],
 "metadata": {
  "kernelspec": {
   "display_name": "xri",
   "language": "python",
   "name": "python3"
  },
  "language_info": {
   "codemirror_mode": {
    "name": "ipython",
    "version": 3
   },
   "file_extension": ".py",
   "mimetype": "text/x-python",
   "name": "python",
   "nbconvert_exporter": "python",
   "pygments_lexer": "ipython3",
   "version": "3.13.5"
  }
 },
 "nbformat": 4,
 "nbformat_minor": 5
}
